{
 "cells": [
  {
   "cell_type": "code",
   "execution_count": 7,
   "id": "7e38bc3b",
   "metadata": {},
   "outputs": [
    {
     "name": "stdout",
     "output_type": "stream",
     "text": [
      "[28.0, 28.0, 28.0, 28.0, 28.0, 28.0, 28.0, 28.0, 28.0, 28.0, 28.0, 28.0, 28.0, 28.0, 28.0, 28.0, 28.0, 28.0, 28.0, 28.0, 28.0, 28.0, 28.0, 28.0, 28.0, 28.0, 28.0, 28.0, 28.0, 28.0, 28.0, 28.0, 28.0, 28.0, 28.0, 28.0, 28.0, 28.0, 28.0, 28.0, 28.0, 28.0, 28.0, 28.0, 28.0, 28.0, 28.0, 28.0, 28.0, 28.0, 28.0, 28.0, 28.0, 28.0, 28.0, 28.0, 28.0, 28.0, 28.0, 28.0, 28.0, 28.0, 28.0, 28.0, 28.0, 28.0, 28.0, 28.0, 28.0, 28.0, 28.0, 28.0, 28.0, 28.0, 28.0, 28.0, 28.0, 28.0, 28.0, 28.0, 28.0, 28.0, 28.0, 28.0, 28.0, 28.0, 28.0, 28.0, 28.0, 28.0, 28.0, 28.0, 28.0, 28.0, 28.0, 28.0, 28.0, 28.0, 28.0, 28.0, 28.0, 28.0, 28.0, 28.0, 28.0, 28.0, 28.0, 28.0, 28.0, 28.0, 28.0, 28.01, 28.01, 28.01, 28.01, 28.0, 28.0, 28.0, 28.0, 28.0, 28.0, 28.0, 28.0, 28.0, 28.0, 28.0, 28.0, 28.0, 28.0, 28.0, 28.0, 28.0, 28.0, 28.0, 28.0, 28.0, 28.0, 28.0, 28.0, 28.0, 28.0, 28.0, 28.0, 28.0, 28.0, 28.0, 28.0, 28.0, 28.0, 28.0, 28.0, 28.0, 28.0, 28.0, 28.0, 28.0, 28.0, 28.0, 28.0, 28.0, 28.0, 28.0, 28.0, 28.0, 28.0, 28.0, 28.0, 28.0, 28.0, 28.0, 28.0, 28.0, 28.0, 28.0, 28.0, 28.0]\n",
      "176\n",
      "Angulos\n",
      "[-5.09, -5.09, -5.09, -5.09, -5.09, -6.86, -6.86, -6.64, -6.64, -6.64, -6.64, -6.64, -6.64, -6.64, -6.64, -6.64, -6.64, -6.64, -6.64, -6.64, -6.64, -6.64, -6.64, -6.64, -6.64, -6.64, -6.64, -4.17, -4.17, -4.17, -4.17, -4.17, -4.17, -4.17, -4.17, -4.17, -4.17, -4.17, -4.17, -4.17, -4.17, -4.17, -4.17, -4.17, -4.17, -4.17, -4.17, -4.17, -4.17, -4.17, -4.17, -4.17, -4.17, -4.17, -4.17, -4.17, -4.17, -4.17, -4.17, -1.21, -1.21, -1.21, -1.21, -1.21, -1.21, -1.21, -1.21, -1.21, -1.21, -1.21, -1.21, -1.21, -1.21, -1.21, -1.21, -1.21, -1.21, -1.21, -1.21, -1.21, 0.49, 0.49, 0.49, 0.49, 0.49, -2.37, -2.37, -2.37, -2.37, -2.37, -2.37, -2.37, -2.37, -2.37, -2.37, -2.37, -2.37, -2.37, -2.37, -2.37, -2.37, -1.47, -1.47, -1.47, -1.47, -1.47, -1.47, -1.47, -1.47, -1.47, -1.47, -0.19, -0.19, -0.19, -0.19, 0.81, 0.81, 2.1, 2.1, 2.1, 2.1, 2.1, 2.1, -2.8, -2.8, -2.8, -2.8, -2.8, -2.8, -4.44, -4.44, -4.44, -4.44, -0.43, -0.43, -0.43, -0.43, -0.43, -0.43, -0.43, -0.43, -0.43, -0.43, -0.43, -0.43, -0.43, -0.43, -0.43, -0.43, -0.43, -0.43, -0.43, -0.43, 3.84, 3.84, 2.9, 2.9, 2.9, 2.9, 2.9, 2.9, 2.9, 2.9, 2.9, 2.9, 1.93, 1.93, 1.93, 1.93, 1.93, 1.93, 1.93, 1.93, 1.93, 1.93, 1.93]\n",
      "176\n"
     ]
    }
   ],
   "source": [
    "import requests\n",
    "import math\n",
    "\n",
    "def getSlopeAngle(altitude1 : int, altitude2 : int, distance : int): #Esta funcion retorna el angulo de la pendiente, recibe las dos altitudes y la distancia entre estos dos puntos\n",
    "    height = altitude2 - altitude1\n",
    "    angle = math.degrees( math.asin(height/distance) )\n",
    "    return angle #Cuando el angulo es negativo va en bajada, cuando el angulo es positivo va en subida\n",
    "    \n",
    "    \n",
    "def make_stringURL(i : int, n : int, list_of_nodes : list): #indice donde inicia los nodos - cantidad puntos - nodos\n",
    "    \n",
    "    strTemp = \"\"\n",
    "    \n",
    "    for x in range(i, n):\n",
    "        strTemp += \"point={latitude},{longitude}&\".format(latitude=list_of_nodes[x][0], longitude=list_of_nodes[x][1])\n",
    "    \n",
    "    return(\"https://graphhopper.com/api/1/route?{}elevation=true&points_encoded=false&details=time&details=distance&calc_points=true&key=api_key\".format(strTemp))\n",
    "\n",
    "\n",
    "\n",
    "\n",
    "list_of_nodes = [(6.345817,-75.538971),(6.340448,-75.545554)] #Esto se recibe por parametro lista de tuplas (latitude, longitude)\n",
    "len_nodes = len(list_of_nodes)\n",
    "speeds = [] #Lista donde se guardaran las velocidades\n",
    "slopeAngles = [] #Lista donde se guardaran los angulos de las pendientes\n",
    "\n",
    "if(len_nodes < 2): print('There arent enough nodes')\n",
    "    \n",
    "if(len_nodes <= 5):\n",
    "    \n",
    "    response = requests.get(make_stringURL(0, len_nodes, list_of_nodes))#Se hace una peticion en base a la URL que devuelva el metodo\n",
    "    \n",
    "    if(response.status_code == 200):\n",
    "            \n",
    "        responseJSON = response.json()\n",
    "        distances = responseJSON[\"paths\"][0][\"details\"][\"distance\"]#arreglo de distancias en metros\n",
    "        times = responseJSON[\"paths\"][0][\"details\"][\"time\"] #Arreglo de tiempos en milisegundos\n",
    "        coordinates = responseJSON[\"paths\"][0][\"points\"][\"coordinates\"] #Arreglo de las coordenadas\n",
    "        \n",
    "        for i in range(len(times)): #El tamaño de distances y times es el mismo\n",
    "            \n",
    "            kilometers = distances[i][2]/1000 #Calculo los kilometros\n",
    "            hours = times[i][2]/3600000 #Calculo las horas\n",
    "            speed = kilometers/hours #Calculo la velocidad km/h\n",
    "            seconds = round((times[i][2]/1000)) #Obtengo los segundos\n",
    "            firstInterval = times[i][0] #Obtengo los intervalos del tiempo para calcular las coordenadas en el mismo tramo\n",
    "            secondInterval = times[i][1] # '     '   '    '    '     '    '    '   ' '     '      '     '    '\n",
    "            slopeAngle = getSlopeAngle( coordinates[firstInterval][2], coordinates[secondInterval][2], distances[i][2] ) #Llamo la funcion para obtener el angulo de la pendiente, le paso las altitudes respectivas al intervalo y la distancia q las separa\n",
    "            \n",
    "            for i in range (seconds):\n",
    "                speeds.append(round(speed, 2))\n",
    "                slopeAngles.append(round(slopeAngle, 2))\n",
    "\n",
    "\n",
    "print(len(speeds))\n",
    "print(slopeAngles)\n",
    "\n",
    "       \n",
    "\n",
    "\n",
    "\n",
    "\n"
   ]
  },
  {
   "cell_type": "code",
   "execution_count": 18,
   "id": "c84423ee",
   "metadata": {},
   "outputs": [
    {
     "name": "stderr",
     "output_type": "stream",
     "text": [
      "IOPub data rate exceeded.\n",
      "The notebook server will temporarily stop sending output\n",
      "to the client in order to avoid crashing it.\n",
      "To change this limit, set the config variable\n",
      "`--NotebookApp.iopub_data_rate_limit`.\n",
      "\n",
      "Current values:\n",
      "NotebookApp.iopub_data_rate_limit=1000000.0 (bytes/sec)\n",
      "NotebookApp.rate_limit_window=3.0 (secs)\n",
      "\n"
     ]
    }
   ],
   "source": []
  },
  {
   "cell_type": "code",
   "execution_count": null,
   "id": "a035f48d",
   "metadata": {},
   "outputs": [],
   "source": []
  }
 ],
 "metadata": {
  "kernelspec": {
   "display_name": "Python 3 (ipykernel)",
   "language": "python",
   "name": "python3"
  },
  "language_info": {
   "codemirror_mode": {
    "name": "ipython",
    "version": 3
   },
   "file_extension": ".py",
   "mimetype": "text/x-python",
   "name": "python",
   "nbconvert_exporter": "python",
   "pygments_lexer": "ipython3",
   "version": "3.8.10"
  }
 },
 "nbformat": 4,
 "nbformat_minor": 5
}
